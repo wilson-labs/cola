{
 "cells": [
  {
   "cell_type": "markdown",
   "id": "e3653c03",
   "metadata": {},
   "source": [
    "# Walkthrough of Linear Algebra Functionality\n",
    "\n",
    "With this section we will explore how to use various linear algebra operations with an emphasis on the dense and iterative base cases, rather than the dispatch rules. For high level operations like `solve`, `sqrt`, `logdet`, `eigs`, `exp`, `trace` the specific functions we call are listed in  [high-level API](https://cola.readthedocs.io/en/latest/package/cola.linalg.html), and low level iterative functions that help implement these operations such as `cg`, `gmres`, `lanczos`, `approx_diag`, `stochastic_lanczos_quadrature` are listed in [algorithms](https://cola.readthedocs.io/en/latest/package/cola.algorithms.html). These low level algorithms can also be called explicitly, but they will not be able to leverage our dispatch rules, and they sometimes require more involvement and knowledge from the user."
   ]
  },
  {
   "cell_type": "markdown",
   "id": "ba92933a",
   "metadata": {},
   "source": [
    "First let's set up some Linear operators to test these operations on. As we want to focus on the base cases, we will use a simple low rank + diagonal linear operator. We will use $A=UU^T+D$ as a prototype for a PSD matrix, $B=UV^T+D$ as a prototype for a generic square matrix, and $C=V^TD$ as a prototype for a generic rectangular matrix."
   ]
  },
  {
   "cell_type": "code",
   "execution_count": 1,
   "id": "7c8b6d0c",
   "metadata": {},
   "outputs": [],
   "source": [
    "import torch\n",
    "import numpy as np\n",
    "import cola\n",
    "\n",
    "N = 200\n",
    "U = cola.lazify(torch.randn(N, 5))\n",
    "V = cola.lazify(torch.randn(N, 5))\n",
    "D = cola.ops.Diagonal(torch.linspace(1, 100, N))\n",
    "\n",
    "A = U @ U.T + D  # a PSD matrix\n",
    "B = U @ V.T + D  # a generic square matrix\n",
    "C = V.T @ D  # a generic rectangular matrix\n",
    "\n",
    "x = torch.ones(N)  # test vector x"
   ]
  },
  {
   "cell_type": "markdown",
   "id": "7a11fe84",
   "metadata": {},
   "source": [
    "Sometimes CoLA is able to infer additional properties of a Linear Operator such as `PSD`, `SelfAdjoint`, or `Unitary` but not always, so it's best to annotate these properties explicitly.\n",
    "\n",
    "In order to let CoLA know that `A` is PSD, we will annotate it with the PSD annotation:"
   ]
  },
  {
   "cell_type": "code",
   "execution_count": 2,
   "id": "84598766",
   "metadata": {},
   "outputs": [
    {
     "name": "stdout",
     "output_type": "stream",
     "text": [
      "Properties before annotating: set()\n",
      "Properties after annotating: {PSD}\n"
     ]
    }
   ],
   "source": [
    "print(\"Properties before annotating:\", A.annotations)\n",
    "A = cola.PSD(A)\n",
    "print(\"Properties after annotating:\", A.annotations)"
   ]
  },
  {
   "cell_type": "markdown",
   "id": "73e64ecc",
   "metadata": {},
   "source": [
    "Let's plot the spectrum of $A$ to get a sense for the kind of object that we are dealing with."
   ]
  },
  {
   "cell_type": "code",
   "execution_count": 3,
   "id": "593b0a80",
   "metadata": {},
   "outputs": [
    {
     "data": {
      "text/plain": [
       "Text(0.5, 0, 'index')"
      ]
     },
     "execution_count": 3,
     "metadata": {},
     "output_type": "execute_result"
    },
    {
     "data": {
      "image/png": "[encoded data removed]",
      "text/plain": [
       "<Figure size 640x480 with 1 Axes>"
      ]
     },
     "metadata": {},
     "output_type": "display_data"
    }
   ],
   "source": [
    "import matplotlib.pyplot as plt\n",
    "plt.plot(torch.linalg.eigh(A.to_dense())[0])\n",
    "plt.yscale('log')\n",
    "plt.ylabel(\"eigenvalues\")\n",
    "plt.xlabel(\"index\")"
   ]
  },
  {
   "cell_type": "markdown",
   "id": "5fb7090a",
   "metadata": {},
   "source": [
    "## Inverses / Linear Solves\n",
    "\n",
    "For solving a linear system $Ax=b$, we may consider two cases where $A$ is a Positive-SemiDefinite symmetric matrix (PSD), and when it is not."
   ]
  },
  {
   "cell_type": "markdown",
   "id": "6e3b54b3",
   "metadata": {},
   "source": [
    "`cola.linalg.inv(A)` represents the linear operator $A^{-1}$ that, when applied to a vector $b$, it solves the linear system $A x = b$ and then outputs $x$.\n",
    "It does not, however, compute the inverse densely $A^{-1}$ and then multiply it by the vector $b$, and is exactly equivalent to calling `cola.linalg.solve` as shown below.\n"
   ]
  },
  {
   "cell_type": "markdown",
   "id": "a24de36f",
   "metadata": {},
   "source": [
    "### PSD"
   ]
  },
  {
   "cell_type": "code",
   "execution_count": 4,
   "id": "06d1e7ea",
   "metadata": {},
   "outputs": [],
   "source": [
    "# these two are exactly equivalent in CoLA\n",
    "y = cola.linalg.solve(A, x)\n",
    "y = cola.linalg.inv(A) @ x"
   ]
  },
  {
   "cell_type": "markdown",
   "id": "4fc78f9f",
   "metadata": {},
   "source": [
    "However with `cola.linalg.inv` we can examine the properties of the solve like the number of iterations it as taken to converge. Instead using the default `method=auto`, let's explicitly pick `method=dense` to use a dense $O(n^3)$ method or `method=iterative` to use an iterative $O(\\tau \\sqrt{\\kappa}\\log 1/\\epsilon)$ where $\\tau$ is the time for an MVM with $A$, $\\kappa$ is the condition number of $A$ and $\\epsilon$ is the desired error tolerance."
   ]
  },
  {
   "cell_type": "code",
   "execution_count": 5,
   "id": "315e5efb",
   "metadata": {},
   "outputs": [
    {
     "name": "stdout",
     "output_type": "stream",
     "text": [
      "With <cola.linalg.decompositions.decompositions.Cholesky object at 0x7fa9cc28ec80>: Ainv of type <class 'cola.ops.operators.Product[cola.linalg.inverse.inv.TriangularInv[cola.ops.operators.Triangular], cola.linalg.inverse.inv.TriangularInv[cola.ops.operators.Triangular]]'>\n",
      "With CG(tol=1e-06, max_iters=1000, pbar=False, x0=None, P=None): Ainv of type <class 'cola.linalg.algorithm_base.IterativeOperatorWInfo[cola.ops.operators.Sum[cola.ops.operators.Product[cola.ops.operators.Dense, cola.ops.operators.Dense], cola.ops.operators.Diagonal], cola.linalg.inverse.cg.CG]'>\n",
      "Computed inverse in 69 iters with error 1.7e-06\n"
     ]
    }
   ],
   "source": [
    "for alg in [cola.Cholesky(), cola.CG()]:\n",
    "    Ainv = cola.linalg.inv(A, alg=alg)\n",
    "    y = Ainv @ x\n",
    "    print(f\"With {alg}: Ainv of type {type(Ainv)}\")\n",
    "    if isinstance(alg, cola.CG):\n",
    "        print(f\"Computed inverse in {Ainv.info['iterations']} iters with error {Ainv.info['errors'][-1]:.1e}\")"
   ]
  },
  {
   "cell_type": "markdown",
   "id": "f31ce201",
   "metadata": {},
   "source": [
    "In the dense case the `inverse` LinearOperator is computed via Cholesky decomposition\n",
    "$A = LL^T$, and then using $A^{-1} = L^{-T}L^{-1}$ where $L^{-1}$ simply means a Linear Operator that performs triangular solves with $L$. We can see this reflected in the type of `Ainv`.\n",
    "\n",
    "Meanwhile `iterative` uses Conjugate Gradients to perform multiplies with $A^{-1}$. With the iterative methods one often may want to specify an error tolerance or a maximum number of iterations to limit the computation."
   ]
  },
  {
   "cell_type": "code",
   "execution_count": 6,
   "id": "6915e1f9",
   "metadata": {},
   "outputs": [
    {
     "name": "stdout",
     "output_type": "stream",
     "text": [
      "Computed inverse in 86 iters with error 1.5e-08\n"
     ]
    }
   ],
   "source": [
    "Ainv = cola.linalg.inv(A, cola.CG(tol=1e-8, max_iters=1_000))\n",
    "y = Ainv @ x\n",
    "print(f\"Computed inverse in {Ainv.info['iterations']} iters with error {Ainv.info['errors'][-1]:.1e}\")"
   ]
  },
  {
   "cell_type": "markdown",
   "id": "4c9eeaeb",
   "metadata": {},
   "source": [
    "With this higher error tolerance, CG can converge in many fewer iterations, and in general one should choose error tolerances as high as are acceptable."
   ]
  },
  {
   "cell_type": "markdown",
   "id": "a8b01e7e",
   "metadata": {},
   "source": [
    "### Non PSD\n",
    "\n",
    "Let's call the same functions but with the non PSD operator $B$."
   ]
  },
  {
   "cell_type": "code",
   "execution_count": 7,
   "id": "75a10f1a",
   "metadata": {},
   "outputs": [
    {
     "name": "stdout",
     "output_type": "stream",
     "text": [
      "With <cola.linalg.decompositions.decompositions.LU object at 0x7fa9cc28ca90>: Ainv of type <class 'cola.ops.operators.Product[cola.linalg.inverse.inv.TriangularInv[cola.ops.operators.Triangular], cola.linalg.inverse.inv.TriangularInv[cola.ops.operators.Triangular], cola.ops.operators.Permutation]'>\n",
      "With GMRES(tol=0.001, max_iters=100, pbar=False, x0=None, P=None): Ainv of type <class 'cola.linalg.algorithm_base.IterativeOperatorWInfo[cola.ops.operators.Sum[cola.ops.operators.Product[cola.ops.operators.Dense, cola.ops.operators.Dense], cola.ops.operators.Diagonal], cola.linalg.inverse.gmres.GMRES]'>\n",
      "Computed inverse in 101 iters with error 2.4e+01\n",
      "Actual residual error: 1.014e-05\n"
     ]
    }
   ],
   "source": [
    "for alg in [cola.LU(), cola.GMRES(tol=1e-3, max_iters=100)]:\n",
    "    Binv = cola.linalg.inv(B, alg=alg)\n",
    "    y = Binv @ x\n",
    "    print(f\"With {alg}: Ainv of type {type(Binv)}\")\n",
    "    if isinstance(alg, cola.GMRES):\n",
    "        print(f\"Computed inverse in {Binv.info['iterations']} iters with error {Binv.info['errors'][-1]:.1e}\")\n",
    "\n",
    "print(f\"Actual residual error: {torch.linalg.norm(B @ y - x) / torch.linalg.norm(x):1.3e}\")"
   ]
  },
  {
   "cell_type": "markdown",
   "id": "df0fbbc9",
   "metadata": {},
   "source": [
    "We can observe a few things here.\n",
    "In the dense case, CoLA performs a PLU decomposition $B=P^{-1}LU$ and then computes the inverse as $U^{-1}L^{-1}P$ again using the implicit triangular solves, but this time combined with a permutation inverse.\n",
    "\n",
    "In the iterative case, CoLA uses GMRES. Notably GMRES uses Arnoldi as a component of the algorithm, and the convergence criteria for Arnoldi depends on more than just residual errors that we care about for the linear solve. As a result of this more stringent convergence criteria, GMRES hits max_iters before stopping from the Arnoldi convergence tolerance, and the errors can be more easily controlled via changing max_iters.\n",
    "\n",
    "In general CG has much more favorable properties over GMRES since with GMRES the memory requirement will grow with the number of iterations as will the compute, and hence if a matrix is PSD annotating it as such is highly preferable."
   ]
  },
  {
   "cell_type": "markdown",
   "id": "20238079",
   "metadata": {},
   "source": [
    "## Matrix Functions: $A^{1/2}$, $\\exp(A)$, $\\log(A)$, $f(A)$\n",
    "\n",
    "Broadly we can consider many functions linear algebra operations $A^{1/2}$, $\\exp(A)$, $\\log(A)$\n",
    "as instances of $f(A)$ where $f$ is assumed to have a convergent Taylor expansion within the bounds of the spectrum of $A$.\n",
    "\n",
    "For 'method = dense', we compute these functions performing an eigendecomposition $A=P\\Lambda P^{-1}$ and evaluate $f(A)=P f(\\Lambda) P^{-1}$, and this runs in time $O(n^3)$.\n",
    "\n",
    "For 'method = iterative', we evaluate matrix vector products $f(A)v$ using the Lanczos and Arnoldi processes starting with the vector $v$. Running in time $O(\\tau \\sqrt{\\kappa}\\log 1/\\epsilon+m^3+mn)$ where $m$ is `max_iters`, this approach gives $\\epsilon$ accurate evaluation of $f(A)v$. (With some extra effort the $m^3$ term can be reduced to $m^2$ but we have not yet implemented this optimization.)\n",
    "\n",
    "For different $v$ the process will be run again, as Lanczos needs $v$ to construct a low error approximation."
   ]
  },
  {
   "cell_type": "markdown",
   "id": "c09ba79e",
   "metadata": {},
   "source": [
    "### SelfAdjoint\n",
    "\n",
    "Whether CoLA uses the more efficient Lanczos process or more costly version using Arnoldi depends on whether or not the matrix is `SelfAdjoint` (which gauruntees an orthogonal eigenbasis). `SelfAdjoint` is considered a superset of `PSD`."
   ]
  },
  {
   "cell_type": "code",
   "execution_count": 8,
   "id": "46ccdc43",
   "metadata": {},
   "outputs": [
    {
     "name": "stdout",
     "output_type": "stream",
     "text": [
      "{PSD}\n",
      "PSD: True, SelfAdjoint: True\n"
     ]
    }
   ],
   "source": [
    "print(A.annotations)\n",
    "print(f\"PSD: {A.isa(cola.PSD)}, SelfAdjoint: {A.isa(cola.SelfAdjoint)}\")"
   ]
  },
  {
   "cell_type": "code",
   "execution_count": 9,
   "id": "1585c823",
   "metadata": {},
   "outputs": [
    {
     "name": "stdout",
     "output_type": "stream",
     "text": [
      "S with method=Auto() is of type <class 'cola.ops.operators.Product[cola.ops.operators.Dense, cola.ops.operators.Diagonal, cola.ops.operators.Dense]'>\n",
      "error in sqrt: tensor(2.2412e-06)\n",
      "S with method=Lanczos(start_vector=None, max_iters=100, tol=0.0001, pbar=False) is of type <class 'cola.linalg.unary.unary.LanczosUnary[cola.ops.operators.Sum[cola.ops.operators.Product[cola.ops.operators.Dense, cola.ops.operators.Dense], cola.ops.operators.Diagonal], function]'>\n",
      "error in sqrt: tensor(1.2751e-06)\n"
     ]
    },
    {
     "name": "stderr",
     "output_type": "stream",
     "text": [
      "/home/ubu/venv/cola/lib/python3.10/site-packages/beartype/_util/hint/pep/utilpeptest.py:311: BeartypeDecorHintPep585DeprecationWarning: PEP 484 type hint typing.Callable deprecated by PEP 585. This hint is scheduled for removal in the first Python version released after October 5th, 2025. To resolve this, import this hint from \"beartype.typing\" rather than \"typing\". For further commentary and alternatives, see also:\n",
      "    https://beartype.readthedocs.io/en/latest/api_roar/#pep-585-deprecations\n",
      "  warn(\n"
     ]
    }
   ],
   "source": [
    "for alg in [cola.Auto(), cola.Lanczos(tol=1e-4, max_iters=100)]:\n",
    "    S = cola.linalg.sqrt(A, alg=alg)\n",
    "    print(f\"S with method={alg} is of type {type(S)}\")\n",
    "    print(\"error in sqrt:\", torch.linalg.norm(S @ (S @ x) - A @ x) / torch.linalg.norm(A @ x))"
   ]
  },
  {
   "cell_type": "markdown",
   "id": "20e4dff0",
   "metadata": {},
   "source": [
    "Likewise we can use `exp`, `log`, `pow`, and `apply_fn`"
   ]
  },
  {
   "cell_type": "code",
   "execution_count": 10,
   "id": "b5a45788",
   "metadata": {},
   "outputs": [
    {
     "name": "stdout",
     "output_type": "stream",
     "text": [
      "tensor([[ 0.2980, -0.0502],\n",
      "        [-0.0502,  0.1277]])\n",
      "tensor([[0.2454, 0.1977],\n",
      "        [0.1977, 0.8406]])\n",
      "tensor([[1.3069e+22, 7.6425e+21],\n",
      "        [7.6425e+21, 4.0476e+22]])\n",
      "tensor([[ 6.2409, -1.4462],\n",
      "        [-1.4462,  1.2435]])\n"
     ]
    }
   ],
   "source": [
    "expA = cola.linalg.exp(-A)\n",
    "logA = cola.linalg.log(A)\n",
    "Apow10 = cola.linalg.pow(A, 10)\n",
    "resolvent = cola.linalg.apply_unary(lambda x: 1 / (x - 1), A)\n",
    "for op in [expA, logA, Apow10, resolvent]:\n",
    "    print(op[:2, :2].to_dense())"
   ]
  },
  {
   "cell_type": "markdown",
   "id": "7f898bd5",
   "metadata": {},
   "source": [
    "### Non SelfAdjoint\n",
    "For non self adjoint matrices the situation is the same, but it will use Arnoldi iterations. However, some of the operations like `log` and `sqrt` require that eigenvalues are $>0$ and may return Nan, Inf, or complex values depending on the inputs."
   ]
  },
  {
   "cell_type": "code",
   "execution_count": 11,
   "id": "31efd212",
   "metadata": {},
   "outputs": [
    {
     "name": "stderr",
     "output_type": "stream",
     "text": [
      "/home/ubu/cola/cola/backends/torch_fns.py:101: UserWarning: Casting complex values to real discards the imaginary part (Triggered internally at ../aten/src/ATen/native/Copy.cpp:299.)\n",
      "  p_ids = (P @ torch.arange(P.shape[-1]).to(P.device, P.dtype)).to(torch.long)\n"
     ]
    },
    {
     "name": "stdout",
     "output_type": "stream",
     "text": [
      "tensor([[1.3539+0.1209j, 0.5808-0.3014j],\n",
      "        [0.4983-0.2386j, 1.1996+0.5950j]])\n",
      "tensor([[ 0.9728-1.5460e-07j, -2.1396+1.1176e-08j],\n",
      "        [-1.7104+3.0128e-07j,  4.3459-5.8208e-10j]])\n",
      "tensor([[-3.0144e+17+2.9045e+11j,  1.9648e+17+2.3139e+11j],\n",
      "        [-5.0874e+17-9.9321e+09j,  4.3570e+17+4.4775e+11j]])\n"
     ]
    }
   ],
   "source": [
    "ops = [cola.linalg.sqrt(B), cola.linalg.exp(-B), cola.linalg.pow(B, 10)]\n",
    "for op in ops:\n",
    "    print(op[:2, :2].to_dense())"
   ]
  },
  {
   "cell_type": "markdown",
   "id": "f28547c9",
   "metadata": {},
   "source": [
    "## Trace and Diagonal estimation\n",
    "\n",
    "Unlike for Dense matrices, evaluating the trace or diagonal of a LinearOperators can be difficult (consider for example the diagonal of the Hessian of a neural network). Depending on the needs for the problem at hand we provide multiple different solutions:\n",
    "- an exact $O(n\\tau)$ compute and $O(\\tau)$ memory evaluation which loops over the basis elements $A_{ii} = e_i^TAe_i$\n",
    "- an stochastic Hutchinson estimator which is unbiased (always), but has runtime $O(1/\\delta^2)$ where $\\delta$ is the desired tolerance for the standard deviation of the estimate.\n",
    "\n",
    "These can be chosen directly by specifying `method=exact`, `method=approx` or by letting the algorithm decide which will be faster based on the specified tolerance for the standard deviation `tol`. In general for methods which only need stochastic estimates (such as to be used in SGD) or only need one or two digits of precision, then the stochastic estimator will be faster.\n",
    "\n",
    "We can use either of these two methods for\n",
    "- computing the trace\n",
    "- computing the diagonal\n",
    "- computing off-diagonal diagonals"
   ]
  },
  {
   "cell_type": "code",
   "execution_count": 12,
   "id": "8fe9971a",
   "metadata": {},
   "outputs": [
    {
     "name": "stdout",
     "output_type": "stream",
     "text": [
      "exact trace: 11140.4794921875, stochastic trace: 11141.3447265625\n"
     ]
    }
   ],
   "source": [
    "exact = cola.linalg.trace(A)\n",
    "approx = cola.linalg.trace(A, alg=cola.Hutch(tol=3e-2))\n",
    "print(f\"exact trace: {exact}, stochastic trace: {approx}\")"
   ]
  },
  {
   "cell_type": "code",
   "execution_count": 13,
   "id": "62404046",
   "metadata": {},
   "outputs": [
    {
     "name": "stdout",
     "output_type": "stream",
     "text": [
      "diagonal: tensor([  2.9105,   6.6579,   7.7880,   5.6944,   7.7207,   7.9493,  14.4669,\n",
      "          8.6406,   8.4762,   9.9815,   9.2213,  11.6946,   9.1450,   9.1370,\n",
      "         10.3431,  14.9943,  16.1334,  15.3012,  15.7201,  20.5606,  15.8162,\n",
      "         20.9723,  23.4144,  17.0187,  16.9799,  18.2090,  19.6589,  19.2838,\n",
      "         19.9156,  21.2470,  18.5541,  28.9271,  19.9661,  24.4216,  26.3321,\n",
      "         21.9637,  23.7207,  27.7732,  26.0379,  24.5356,  30.4879,  25.0438,\n",
      "         25.5871,  28.1174,  26.6907,  31.1649,  33.2315,  29.3582,  30.9795,\n",
      "         27.6676,  29.1221,  41.0663,  32.8984,  31.9516,  34.2738,  30.2794,\n",
      "         32.0154,  32.9081,  33.5838,  36.4766,  34.0875,  36.1036,  36.2640,\n",
      "         47.3077,  36.1327,  36.5039,  39.2103,  42.3171,  38.7837,  38.6322,\n",
      "         47.4495,  37.5737,  41.7417,  54.2067,  52.4848,  44.8467,  42.9181,\n",
      "         43.8147,  50.5516,  41.1076,  44.5002,  45.7412,  44.9080,  45.0712,\n",
      "         50.2902,  44.1144,  54.8404,  50.8947,  47.5053,  52.5485,  56.9569,\n",
      "         51.0033,  48.3957,  53.5991,  51.5965,  49.2288,  51.1432,  51.0310,\n",
      "         66.0768,  54.3312,  61.3936,  59.4015,  64.6508,  59.9103,  59.5411,\n",
      "         60.6654,  54.3951,  55.7364,  59.4957,  57.5053,  59.9450,  60.3453,\n",
      "         61.1188,  60.8287,  62.1371,  62.1911,  63.6589,  61.1521,  60.6660,\n",
      "         67.4965,  68.5598,  66.3447,  65.0237,  65.1445,  68.8951,  68.2223,\n",
      "         67.3100,  69.1981,  68.8465,  67.7720,  72.9229,  68.4523,  72.4802,\n",
      "         76.2862,  72.4437,  76.7284,  76.9889,  71.5066,  75.4166,  75.1609,\n",
      "         71.6696,  75.8687,  78.0572,  77.6703,  82.1909,  76.8236,  77.3720,\n",
      "         79.3482,  76.7613,  80.1988,  76.9217,  79.9072,  80.0123,  88.0147,\n",
      "         83.7547,  86.6383,  85.7140,  80.0797,  80.2922,  82.7640,  85.7344,\n",
      "         81.9364,  86.4634,  88.7669,  84.0030,  97.1022,  84.5475,  91.4307,\n",
      "         89.5576,  89.6312,  93.2094,  89.5234,  89.8573,  88.7758,  90.9600,\n",
      "         95.5383,  90.4730,  94.0297,  90.8497,  91.1323,  92.8236,  94.6630,\n",
      "        100.2770, 100.3023,  96.8726,  96.6576, 100.4178,  95.5499, 101.6134,\n",
      "         97.2234, 101.7444,  98.7621, 101.0530, 101.4437, 101.4525, 102.5414,\n",
      "        102.6533, 105.7259, 101.3717, 101.8089])\n",
      "off-diagonal: tensor([ 1.8619e+00,  1.4443e+00,  2.9984e+00,  7.7893e-01,  1.7824e+00,\n",
      "        -4.1535e+00, -3.1329e+00,  1.7752e+00,  5.5115e-02, -7.6972e-01,\n",
      "        -8.2959e-01,  2.3604e-01,  8.4445e-01, -3.8152e-01, -4.9635e-01,\n",
      "        -8.7879e-01,  1.5317e+00, -4.3575e+00, -1.9467e-01, -2.6421e+00,\n",
      "        -2.4585e+00,  2.7106e+00,  3.6121e-01, -1.5746e+00,  8.4257e-01,\n",
      "         2.9825e-02, -6.0740e-01, -2.3008e+00, -3.5238e+00,  4.4637e-01,\n",
      "        -1.2468e+00,  8.5250e-01, -1.1162e+00, -2.4626e+00, -4.7248e+00,\n",
      "         1.9090e+00, -2.7792e+00,  2.1282e+00,  2.5500e+00,  4.9424e+00,\n",
      "         3.6783e+00, -6.1445e-01,  3.5526e+00,  3.1270e+00,  4.9577e+00,\n",
      "        -3.5341e+00, -2.1818e-01, -2.5780e+00, -1.5541e+00,  1.3359e+00,\n",
      "        -1.2571e+00, -5.9756e-01,  1.3492e-01, -3.7441e-01, -3.0233e+00,\n",
      "         6.2719e-01,  1.7442e+00, -1.3740e+00,  1.1309e+00, -1.2113e+00,\n",
      "         1.5544e+00,  2.3004e-01, -3.2550e+00,  1.5878e+00, -2.2103e-01,\n",
      "        -2.2471e+00, -4.3714e+00,  1.2389e-01,  1.9157e+00,  5.4096e+00,\n",
      "        -1.7274e-01,  1.9782e+00, -7.4581e+00,  2.0587e+00, -4.7302e+00,\n",
      "         1.9390e+00,  1.7689e-01,  4.4493e+00, -1.4106e+00,  8.3216e-01,\n",
      "        -2.2469e+00, -6.6727e-01,  4.4164e-01,  1.4915e+00, -2.1851e+00,\n",
      "        -1.8583e+00, -2.0849e-01, -1.5698e+00, -3.9317e+00, -6.0658e+00,\n",
      "         3.7678e+00, -1.4334e+00,  1.0408e-01,  2.2659e+00,  1.2644e+00,\n",
      "         3.0364e-01, -1.3621e+00, -2.0233e+00, -4.1385e+00,  2.9000e+00,\n",
      "        -1.8199e+00,  4.1474e+00, -4.7319e+00, -1.0385e+00, -4.5118e-01,\n",
      "         4.6757e-01,  8.3356e-02,  4.9693e-01, -1.5032e+00,  2.3460e+00,\n",
      "        -1.9786e+00,  2.9121e+00, -5.1631e-01, -1.1983e+00, -1.4430e+00,\n",
      "        -5.0621e-01,  2.6052e+00, -6.5278e-02,  8.5213e-01, -1.7233e+00,\n",
      "         4.4696e+00,  4.7767e-01, -1.6977e+00, -1.2247e+00, -3.7925e+00,\n",
      "        -1.5898e+00, -9.1512e-01, -3.5061e+00, -3.5212e-04,  2.2371e+00,\n",
      "         2.3560e+00, -1.4759e+00, -1.9395e+00, -3.8870e+00, -1.1282e+00,\n",
      "        -3.2920e+00, -2.4778e+00,  2.7507e-01,  2.9752e+00, -3.0815e-01,\n",
      "         1.1254e+00, -3.4129e+00, -2.9451e+00,  4.8193e+00, -9.2830e-01,\n",
      "         3.8004e-01,  1.9579e+00, -2.0146e+00, -1.9846e-01,  1.7359e+00,\n",
      "        -1.1069e+00, -2.0799e-01, -2.9459e+00,  4.4124e+00, -1.8044e+00,\n",
      "        -2.3596e+00, -1.5304e+00, -2.7533e-01,  6.7644e-01,  1.8901e+00,\n",
      "        -8.2322e-01,  5.9690e-01, -4.5855e+00,  5.7625e-01, -3.0397e+00,\n",
      "        -3.0983e+00, -1.6242e-02,  2.0071e+00,  2.9900e+00,  1.8190e+00,\n",
      "         2.6910e+00, -5.5558e-01,  2.1204e+00,  6.1820e-01, -2.4048e-01,\n",
      "         1.3270e+00, -5.6026e-01, -4.3293e-01, -2.5275e-01,  9.4460e-02,\n",
      "        -1.3637e+00,  4.0360e+00, -5.3986e+00, -3.6042e+00, -1.0055e-01,\n",
      "         2.5775e+00, -3.1153e-01,  1.9908e+00, -1.8629e+00, -2.6366e+00,\n",
      "        -1.5726e+00, -5.4256e-01,  2.4624e+00,  1.3465e-01,  3.4193e+00,\n",
      "         6.9653e-01,  4.8743e-01,  8.8375e-01,  3.8064e-01])\n"
     ]
    }
   ],
   "source": [
    "diag = cola.linalg.diag(A)\n",
    "off_diag = cola.linalg.diag(A, k=1)\n",
    "print(f\"diagonal: {diag}\")\n",
    "print(f\"off-diagonal: {off_diag}\")"
   ]
  },
  {
   "cell_type": "markdown",
   "id": "d321cde0",
   "metadata": {},
   "source": [
    "## Log Determinants\n",
    "\n",
    "In the dense case, we compute log determinants from the Cholesky or LU decompositions depending on whether the matrix is PSD or not, and this runs in time $O(n^3)$.\n",
    "\n",
    "For the iterative case we compute log determinants using the formula $\\log\\mathrm{det}(A) = \\mathrm{Tr}(\\log(A))$ combining together the $\\log$ and $\\mathrm{Tr}$ functions discussed above.\n",
    "\n",
    "In the special case where only unbiased estimates (or a small number of significant digits) are required for the given use case, we can leverage [stochastic lanczos quadrature](https://www-users.cse.umn.edu/~saad/PDF/ys-2016-04.pdf) to get an improved convergence rate.\n",
    "\n",
    "This choice is exposed to the user through the `method=iterative-stochastic` vs `method=iterative-exact` options in `logdet` and `slogdet`. If not chosen then they will be chosen automatically based on the selected `vtol` which chooses the \"variance\" tolerance specifying the standard deviation of the estimate.\n",
    "\n",
    "For stochastic estimation, a key (`long` for pytorch, `PRNGKey` for jax) should be provided to explicitly to seed the randomness."
   ]
  },
  {
   "cell_type": "code",
   "execution_count": 14,
   "id": "8fb806d3",
   "metadata": {},
   "outputs": [
    {
     "name": "stdout",
     "output_type": "stream",
     "text": [
      "Tr(log(A)) tensor(740.6740)\n",
      "SLQ: tensor(740.7073)\n",
      "Dense: tensor(740.6740)\n"
     ]
    }
   ],
   "source": [
    "print(\"Tr(log(A))\", cola.linalg.logdet(A, trace_alg=cola.Hutch(tol=1e-4), log_alg=cola.Lanczos(tol=1e-4, max_iters=30)))\n",
    "print(\"SLQ:\", cola.linalg.logdet(A, log_alg=cola.Lanczos(tol=1e-3, max_iters=10), trace_alg=cola.Auto()))\n",
    "print(\"Dense:\", cola.linalg.logdet(A))"
   ]
  },
  {
   "cell_type": "markdown",
   "id": "b8943ea7",
   "metadata": {},
   "source": [
    "And we can do this for non PSD matrices too using $\\log \\mathrm{det}(A) = \\frac{1}{2}\\log \\mathrm{det}(A^TA)$, however the phase (sign) is lost in this process."
   ]
  },
  {
   "cell_type": "code",
   "execution_count": 15,
   "id": "792da278",
   "metadata": {},
   "outputs": [
    {
     "name": "stdout",
     "output_type": "stream",
     "text": [
      "iterative: (tensor(1.0000+0.0025j), tensor(731.9401))\n",
      "Dense: (tensor(-1.), tensor(732.7272))\n"
     ]
    }
   ],
   "source": [
    "print(\"iterative:\", cola.linalg.slogdet(B, log_alg=cola.Arnoldi(tol=1e-3, max_iters=10)))\n",
    "print(\"Dense:\", cola.linalg.slogdet(B, log_alg=cola.LU()))"
   ]
  },
  {
   "cell_type": "markdown",
   "id": "22384e5a",
   "metadata": {},
   "source": [
    "## Eigendecomposition\n",
    "\n",
    "Another popular linear algebra operation is to find an approximation for the eigenvalues or eigenvectors of given linear operator $A$. That is, find $V$ and $\\Lambda$ such that $AV = V \\Lambda$."
   ]
  },
  {
   "cell_type": "code",
   "execution_count": 16,
   "id": "2a341033",
   "metadata": {},
   "outputs": [],
   "source": [
    "eig_vals, eig_vecs = cola.eig(A, k=A.shape[0])"
   ]
  },
  {
   "cell_type": "markdown",
   "id": "f530084d",
   "metadata": {},
   "source": [
    "Nevertheless, when $A$ is quite large we cannot afford the time or memory for a full decomposition. We could thus use an iterative eigenvalue algorithm such as power iteration (if we only want the maximum eigenvalue), Lanczos (if we have a symmetric operator) or Arnoldi (which works in general). Let's see how to run all of those options.\n",
    "So to compute the maximum eigenvalue we could run"
   ]
  },
  {
   "cell_type": "code",
   "execution_count": 17,
   "id": "c3cbf4b0",
   "metadata": {},
   "outputs": [
    {
     "name": "stdout",
     "output_type": "stream",
     "text": [
      "eigmax: 333.77655029296875\n",
      "eig_vals[0]: 333.83392333984375\n"
     ]
    }
   ],
   "source": [
    "from cola.linalg.eig.power_iteration import power_iteration\n",
    "_, eig_max, _ = power_iteration(A, tol=1e-4)\n",
    "print(f\"eigmax: {eig_max}\")\n",
    "print(f\"eig_vals[0]: {eig_vals[-1]}\")"
   ]
  },
  {
   "cell_type": "markdown",
   "id": "15c00f6c",
   "metadata": {},
   "source": [
    "Indeed we recover the largest eigenvalue. The algorithm that `CoLA` ran in this case was the power method which runs in time $O(\\tau\\frac{1}{\\Delta} \\log 1/\\epsilon)$ to compute the top eigenvalue. But we can achieve an accelerated convergence rate $O(\\tau\\frac{1}{\\sqrt{\\Delta}} \\log 1/\\epsilon)$ if we use Lanczos and Arnoldi, however this comes at an additional memory cost of $O(nm+m^2)$ where $m$ is `max_iters`."
   ]
  },
  {
   "cell_type": "code",
   "execution_count": 18,
   "id": "7f9674f3",
   "metadata": {},
   "outputs": [
    {
     "name": "stderr",
     "output_type": "stream",
     "text": [
      "WARNING:root:Non keyed randn used. To be deprecated soon.\n"
     ]
    },
    {
     "name": "stdout",
     "output_type": "stream",
     "text": [
      "333.8339538574219\n"
     ]
    }
   ],
   "source": [
    "e0, v0 = cola.eig(A, k=A.shape[0], which=\"SM\", alg=cola.Lanczos(tol=1e-4, max_iters=15))\n",
    "print(f\"{e0[-1]}\")"
   ]
  },
  {
   "cell_type": "markdown",
   "id": "7ee7ca0b",
   "metadata": {},
   "source": [
    "## 🚧 SVD (under development) 🚧"
   ]
  },
  {
   "cell_type": "markdown",
   "id": "53df236b",
   "metadata": {},
   "source": [
    "## 🚧 Pseudoinverse (under development) 🚧"
   ]
  }
 ],
 "metadata": {
  "kernelspec": {
   "display_name": "Python 3 (ipykernel)",
   "language": "python",
   "name": "python3"
  },
  "language_info": {
   "codemirror_mode": {
    "name": "ipython",
    "version": 3
   },
   "file_extension": ".py",
   "mimetype": "text/x-python",
   "name": "python",
   "nbconvert_exporter": "python",
   "pygments_lexer": "ipython3",
   "version": "3.10.12"
  }
 },
 "nbformat": 4,
 "nbformat_minor": 5
}
