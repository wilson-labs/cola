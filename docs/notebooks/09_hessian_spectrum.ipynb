{
 "cells": [
  {
   "cell_type": "markdown",
   "metadata": {},
   "source": [
    "# Computing the eigenspectrum of the Hessian of a Neural Network"
   ]
  },
  {
   "cell_type": "markdown",
   "metadata": {},
   "source": [
    "In this notebook we will consider computing the eigenvalues of the Hessian of the loss function for a ResNet18."
   ]
  },
  {
   "cell_type": "code",
   "execution_count": 10,
   "metadata": {},
   "outputs": [
    {
     "name": "stdout",
     "output_type": "stream",
     "text": [
      "Note: you may need to restart the kernel to use updated packages.\n",
      "Note: you may need to restart the kernel to use updated packages.\n"
     ]
    }
   ],
   "source": [
    "%pip install -q timm\n",
    "%pip install -q detectors"
   ]
  },
  {
   "cell_type": "markdown",
   "metadata": {},
   "source": [
    "First let's load a pretrained resnet18 model on CIFAR10 and verify that it is loaded correctly."
   ]
  },
  {
   "cell_type": "code",
   "execution_count": 1,
   "metadata": {},
   "outputs": [
    {
     "name": "stdout",
     "output_type": "stream",
     "text": [
      "Files already downloaded and verified\n",
      "Files already downloaded and verified\n",
      "Test accuracy: 94.98%\n"
     ]
    }
   ],
   "source": [
    "import torch\n",
    "import torchvision\n",
    "import torchvision.transforms as transforms\n",
    "import os\n",
    "import detectors\n",
    "import timm\n",
    "\n",
    "device = torch.device(\"cuda\" if torch.cuda.is_available() else \"cpu\")\n",
    "\n",
    "# Load CIFAR10 dataset\n",
    "transform = transforms.Compose([transforms.ToTensor(), transforms.Normalize((0.4914, 0.4822, 0.4465), (0.2023, 0.1994, 0.2010))])\n",
    "trainset = torchvision.datasets.CIFAR10(root=os.path.expanduser('~/datasets'), train=True, download=True, transform=transform)\n",
    "trainloader = torch.utils.data.DataLoader(trainset, batch_size=50, shuffle=True)\n",
    "testset = torchvision.datasets.CIFAR10(root=os.path.expanduser('~/datasets'), train=False, download=True, transform=transform)\n",
    "testloader = torch.utils.data.DataLoader(testset, batch_size=50, shuffle=False)\n",
    "criterion = torch.nn.CrossEntropyLoss()\n",
    "\n",
    "# Load pretrained ResNet18 model and verify the results\n",
    "model = timm.create_model(\"resnet18_cifar10\", pretrained=True).to(device).eval()\n",
    "with torch.no_grad():\n",
    "    correct = sum((model(images.to(device)).argmax(1) == labels.to(device)).sum().item() for images, labels in testloader)\n",
    "accuracy = 100 * correct / len(testset)\n",
    "print(f\"Test accuracy: {accuracy:.2f}%\")"
   ]
  },
  {
   "cell_type": "markdown",
   "metadata": {},
   "source": [
    "Next we will define a function that computes the loss explicitly as a function of the parameters, so we can compute the Hessian of this function."
   ]
  },
  {
   "cell_type": "code",
   "execution_count": 2,
   "metadata": {},
   "outputs": [],
   "source": [
    "import torch.func as tf\n",
    "from torch.utils._pytree import tree_flatten, tree_unflatten\n",
    "\n",
    "# make stateless model\n",
    "def flatten_params(params):\n",
    "    shapes = [p.shape for p in params]\n",
    "    flat_params = torch.cat([p.flatten() for p in params])\n",
    "    return flat_params, shapes\n",
    "\n",
    "\n",
    "def unflatten_params(flat_params, shapes):\n",
    "    params = []\n",
    "    i = 0\n",
    "    for shape in shapes:\n",
    "        size = torch.prod(torch.tensor(shape)).item()\n",
    "        params.append(flat_params[i:i + size].view(shape))\n",
    "        i += size\n",
    "    return params\n",
    "\n",
    "flat_p, shape = flatten_params(list(model.parameters()))\n",
    "flat_p = flat_p.detach().requires_grad_(True)\n",
    "\n",
    "def stateless_model(flatparams, x):\n",
    "    params = unflatten_params(flatparams, shape)\n",
    "    names = list(n for n, _ in model.named_parameters())\n",
    "    nps = {n: p for n, p in zip(names, params)}\n",
    "    return tf.functional_call(model, nps, x)\n",
    "\n",
    "def flat_loss(X,y,params):\n",
    "    return criterion(stateless_model(params, X).reshape(X.shape[0],-1), y)"
   ]
  },
  {
   "cell_type": "markdown",
   "metadata": {},
   "source": [
    "Now we will define the Hessian of this loss function. Due to memory constraints we cannot compute the loss for the entire dataset simultaneously, so instead we need to loop over the elements in the dataloader. For this we will create a new linear operator `BatchedHessian`"
   ]
  },
  {
   "cell_type": "code",
   "execution_count": 3,
   "metadata": {},
   "outputs": [],
   "source": [
    "import cola\n",
    "from functools import partial\n",
    "\n",
    "class BatchedHessian(cola.ops.LinearOperator):\n",
    "    def __init__(self, loss, params, dataloader):\n",
    "        self.loss = loss\n",
    "        self.params = params\n",
    "        self.dataloader = dataloader\n",
    "        super().__init__(dtype=params.dtype, shape=(params.numel(), params.numel()),\n",
    "                        annotations={cola.SelfAdjoint}) # mark it as self-adjoint\n",
    "\n",
    "    def _matmat(self, V):\n",
    "        HV = torch.zeros_like(V)\n",
    "        with torch.no_grad():\n",
    "            n = 0\n",
    "            for X,y in self.dataloader:\n",
    "                with torch.enable_grad():\n",
    "                    H = cola.ops.Hessian(partial(self.loss, X.to(self.device), y.to(self.device)), self.params)\n",
    "                    out = H@V\n",
    "                    n +=1\n",
    "                HV += out\n",
    "        return HV/n"
   ]
  },
  {
   "cell_type": "code",
   "execution_count": 4,
   "metadata": {},
   "outputs": [],
   "source": [
    "H = BatchedHessian(flat_loss, flat_p, testloader)"
   ]
  },
  {
   "cell_type": "markdown",
   "metadata": {},
   "source": [
    "As we can see, the matrix is of considerable size because of the 10M+ parameters of the model."
   ]
  },
  {
   "cell_type": "code",
   "execution_count": 5,
   "metadata": {},
   "outputs": [
    {
     "name": "stdout",
     "output_type": "stream",
     "text": [
      "size of Hessian: (11173962, 11173962)\n"
     ]
    }
   ],
   "source": [
    "print(f\"size of Hessian: {H.shape}\")"
   ]
  },
  {
   "cell_type": "markdown",
   "metadata": {},
   "source": [
    "Now we will use Lanczos to compute an approximation to the Hessian eigenvalues. Setting the maximum iterations to $30$ in order for the computation to only take ~15 minutes, but with more time we can get more eigenvalues."
   ]
  },
  {
   "cell_type": "code",
   "execution_count": 6,
   "metadata": {},
   "outputs": [
    {
     "ename": "AmbiguousLookupError",
     "evalue": "For function `eig`, `(<11173962x11173962 BatchedHessian with dtype=torch.float32>,)` is ambiguous among the following:\n  Dispatched on eig(cola.ops.operator_base.LinearOperator) (precedence: 0)\n  Dispatched on eig(cola.ops.operator_base.LinearOperator) (precedence: 0)\n  Dispatched on eig(cola.ops.operator_base.LinearOperator) with precedence=-1 (precedence: -1)\n  Dispatched on eig(cola.ops.operator_base.LinearOperator) with precedence=-1 (precedence: -1)\n  Dispatched on eig(cola.ops.operator_base.LinearOperator) with precedence=-1 (precedence: -1)",
     "output_type": "error",
     "traceback": [
      "\u001b[0;31m---------------------------------------------------------------------------\u001b[0m",
      "\u001b[0;31mKeyError\u001b[0m                                  Traceback (most recent call last)",
      "File \u001b[0;32m~/plum/plum/function.py:466\u001b[0m, in \u001b[0;36mFunction._resolve_method_with_cache\u001b[0;34m(self, args, types)\u001b[0m\n\u001b[1;32m    465\u001b[0m \u001b[39mtry\u001b[39;00m:\n\u001b[0;32m--> 466\u001b[0m     \u001b[39mreturn\u001b[39;00m \u001b[39mself\u001b[39;49m\u001b[39m.\u001b[39;49m_cache[types][:\u001b[39m2\u001b[39m]\n\u001b[1;32m    467\u001b[0m \u001b[39mexcept\u001b[39;00m \u001b[39mKeyError\u001b[39;00m:\n",
      "\u001b[0;31mKeyError\u001b[0m: (<class '__main__.BatchedHessian'>,)",
      "\nDuring handling of the above exception, another exception occurred:\n",
      "\u001b[0;31mAmbiguousLookupError\u001b[0m                      Traceback (most recent call last)",
      "File \u001b[0;32m~/plum/plum/function.py:382\u001b[0m, in \u001b[0;36mFunction.resolve_method\u001b[0;34m(self, target)\u001b[0m\n\u001b[1;32m    380\u001b[0m \u001b[39mtry\u001b[39;00m:\n\u001b[1;32m    381\u001b[0m     \u001b[39m# Attempt to find the method using the resolver.\u001b[39;00m\n\u001b[0;32m--> 382\u001b[0m     signature \u001b[39m=\u001b[39m \u001b[39mself\u001b[39;49m\u001b[39m.\u001b[39;49m_resolver\u001b[39m.\u001b[39;49mresolve(target)\n\u001b[1;32m    383\u001b[0m     method \u001b[39m=\u001b[39m signature\u001b[39m.\u001b[39mimplementation\n",
      "File \u001b[0;32m~/plum/plum/resolver.py:204\u001b[0m, in \u001b[0;36mResolver.resolve\u001b[0;34m(self, target)\u001b[0m\n\u001b[1;32m    201\u001b[0m listed_candidates \u001b[39m=\u001b[39m \u001b[39m\"\u001b[39m\u001b[39m\\n\u001b[39;00m\u001b[39m  \u001b[39m\u001b[39m\"\u001b[39m\u001b[39m.\u001b[39mjoin(\n\u001b[1;32m    202\u001b[0m     [\u001b[39mf\u001b[39m\u001b[39m\"\u001b[39m\u001b[39m{\u001b[39;00mc\u001b[39m}\u001b[39;00m\u001b[39m (precedence: \u001b[39m\u001b[39m{\u001b[39;00mc\u001b[39m.\u001b[39mprecedence\u001b[39m}\u001b[39;00m\u001b[39m)\u001b[39m\u001b[39m\"\u001b[39m \u001b[39mfor\u001b[39;00m c \u001b[39min\u001b[39;00m candidates]\n\u001b[1;32m    203\u001b[0m )\n\u001b[0;32m--> 204\u001b[0m \u001b[39mraise\u001b[39;00m AmbiguousLookupError(\n\u001b[1;32m    205\u001b[0m     \u001b[39mf\u001b[39m\u001b[39m\"\u001b[39m\u001b[39m`\u001b[39m\u001b[39m{\u001b[39;00mtarget\u001b[39m}\u001b[39;00m\u001b[39m` is ambiguous among the following:\u001b[39m\u001b[39m\\n\u001b[39;00m\u001b[39m\"\u001b[39m\n\u001b[1;32m    206\u001b[0m     \u001b[39mf\u001b[39m\u001b[39m\"\u001b[39m\u001b[39m  \u001b[39m\u001b[39m{\u001b[39;00mlisted_candidates\u001b[39m}\u001b[39;00m\u001b[39m\"\u001b[39m\n\u001b[1;32m    207\u001b[0m )\n",
      "\u001b[0;31mAmbiguousLookupError\u001b[0m: `(<11173962x11173962 BatchedHessian with dtype=torch.float32>,)` is ambiguous among the following:\n  Dispatched on eig(cola.ops.operator_base.LinearOperator) (precedence: 0)\n  Dispatched on eig(cola.ops.operator_base.LinearOperator) (precedence: 0)\n  Dispatched on eig(cola.ops.operator_base.LinearOperator) with precedence=-1 (precedence: -1)\n  Dispatched on eig(cola.ops.operator_base.LinearOperator) with precedence=-1 (precedence: -1)\n  Dispatched on eig(cola.ops.operator_base.LinearOperator) with precedence=-1 (precedence: -1)",
      "\nDuring handling of the above exception, another exception occurred:\n",
      "\u001b[0;31mAmbiguousLookupError\u001b[0m                      Traceback (most recent call last)",
      "\u001b[1;32m/home/marc_f/cola/docs/notebooks/09_hessian_spectrum.ipynb Cell 14\u001b[0m line \u001b[0;36m1\n\u001b[0;32m----> <a href='vscode-notebook-cell://ssh-remote%2Bmint/home/marc_f/cola/docs/notebooks/09_hessian_spectrum.ipynb#X16sdnNjb2RlLXJlbW90ZQ%3D%3D?line=0'>1</a>\u001b[0m eigs, eigvecs \u001b[39m=\u001b[39m cola\u001b[39m.\u001b[39;49meig(H, alg\u001b[39m=\u001b[39;49mcola\u001b[39m.\u001b[39;49mLanczos(max_iters\u001b[39m=\u001b[39;49m\u001b[39m30\u001b[39;49m, tol\u001b[39m=\u001b[39;49m\u001b[39m1e-5\u001b[39;49m, pbar\u001b[39m=\u001b[39;49m\u001b[39mTrue\u001b[39;49;00m))\n",
      "File \u001b[0;32m~/plum/plum/function.py:443\u001b[0m, in \u001b[0;36mFunction.__call__\u001b[0;34m(self, *args, **kw_args)\u001b[0m\n\u001b[1;32m    442\u001b[0m \u001b[39mdef\u001b[39;00m \u001b[39m__call__\u001b[39m(\u001b[39mself\u001b[39m, \u001b[39m*\u001b[39margs, \u001b[39m*\u001b[39m\u001b[39m*\u001b[39mkw_args):\n\u001b[0;32m--> 443\u001b[0m     method, return_type \u001b[39m=\u001b[39m \u001b[39mself\u001b[39;49m\u001b[39m.\u001b[39;49m_resolve_method_with_cache(args\u001b[39m=\u001b[39;49margs)\n\u001b[1;32m    444\u001b[0m     \u001b[39mreturn\u001b[39;00m _convert(method(\u001b[39m*\u001b[39margs, \u001b[39m*\u001b[39m\u001b[39m*\u001b[39mkw_args), return_type)\n",
      "File \u001b[0;32m~/plum/plum/function.py:472\u001b[0m, in \u001b[0;36mFunction._resolve_method_with_cache\u001b[0;34m(self, args, types)\u001b[0m\n\u001b[1;32m    469\u001b[0m     args \u001b[39m=\u001b[39m Signature(\u001b[39m*\u001b[39m(resolve_type_hint(t) \u001b[39mfor\u001b[39;00m t \u001b[39min\u001b[39;00m types))\n\u001b[1;32m    471\u001b[0m \u001b[39m# Cache miss. Run the resolver based on the arguments.\u001b[39;00m\n\u001b[0;32m--> 472\u001b[0m method, return_type, signature \u001b[39m=\u001b[39m \u001b[39mself\u001b[39;49m\u001b[39m.\u001b[39;49mresolve_method(args)\n\u001b[1;32m    473\u001b[0m \u001b[39m# If the resolver is faithful, then we can perform caching using the types\u001b[39;00m\n\u001b[1;32m    474\u001b[0m \u001b[39m# of the arguments. If the resolver is not faithful, then we cannot.\u001b[39;00m\n\u001b[1;32m    475\u001b[0m \u001b[39mif\u001b[39;00m \u001b[39mself\u001b[39m\u001b[39m.\u001b[39m_resolver\u001b[39m.\u001b[39mis_faithful \u001b[39mand\u001b[39;00m signature\u001b[39m.\u001b[39mcondition \u001b[39mis\u001b[39;00m \u001b[39mNone\u001b[39;00m:\n",
      "File \u001b[0;32m~/plum/plum/function.py:387\u001b[0m, in \u001b[0;36mFunction.resolve_method\u001b[0;34m(self, target)\u001b[0m\n\u001b[1;32m    384\u001b[0m     return_type \u001b[39m=\u001b[39m signature\u001b[39m.\u001b[39mreturn_type\n\u001b[1;32m    386\u001b[0m \u001b[39mexcept\u001b[39;00m AmbiguousLookupError \u001b[39mas\u001b[39;00m e:\n\u001b[0;32m--> 387\u001b[0m     \u001b[39mraise\u001b[39;00m \u001b[39mself\u001b[39m\u001b[39m.\u001b[39m_enhance_exception(e)  \u001b[39m# Specify this function.\u001b[39;00m\n\u001b[1;32m    389\u001b[0m \u001b[39mexcept\u001b[39;00m NotFoundLookupError \u001b[39mas\u001b[39;00m e:\n\u001b[1;32m    390\u001b[0m     e \u001b[39m=\u001b[39m \u001b[39mself\u001b[39m\u001b[39m.\u001b[39m_enhance_exception(e)  \u001b[39m# Specify this function.\u001b[39;00m\n",
      "\u001b[0;31mAmbiguousLookupError\u001b[0m: For function `eig`, `(<11173962x11173962 BatchedHessian with dtype=torch.float32>,)` is ambiguous among the following:\n  Dispatched on eig(cola.ops.operator_base.LinearOperator) (precedence: 0)\n  Dispatched on eig(cola.ops.operator_base.LinearOperator) (precedence: 0)\n  Dispatched on eig(cola.ops.operator_base.LinearOperator) with precedence=-1 (precedence: -1)\n  Dispatched on eig(cola.ops.operator_base.LinearOperator) with precedence=-1 (precedence: -1)\n  Dispatched on eig(cola.ops.operator_base.LinearOperator) with precedence=-1 (precedence: -1)"
     ]
    }
   ],
   "source": [
    "eigs, eigvecs = cola.eig(H, alg=cola.Lanczos(max_iters=30, tol=1e-5, pbar=True))"
   ]
  },
  {
   "cell_type": "markdown",
   "metadata": {},
   "source": [
    "In this case we have computed the ritz values, which are good approximations for the eigenvalues for the largest and smallest magnitude eigenvalues. We can see the spectrum below."
   ]
  },
  {
   "cell_type": "code",
   "execution_count": null,
   "metadata": {},
   "outputs": [
    {
     "data": {
      "image/png": "[encoded data removed]",
      "text/plain": [
       "<Figure size 640x480 with 1 Axes>"
      ]
     },
     "metadata": {},
     "output_type": "display_data"
    }
   ],
   "source": [
    "import matplotlib.pyplot as plt\n",
    "plt.plot(eigs.cpu().data.numpy()/200)\n",
    "plt.yscale('log')\n",
    "plt.ylabel('eigenvalues')\n",
    "plt.xlabel('index')\n",
    "plt.show()"
   ]
  },
  {
   "cell_type": "code",
   "execution_count": null,
   "metadata": {},
   "outputs": [],
   "source": []
  }
 ],
 "metadata": {
  "kernelspec": {
   "display_name": "cola",
   "language": "python",
   "name": "python3"
  },
  "language_info": {
   "codemirror_mode": {
    "name": "ipython",
    "version": 3
   },
   "file_extension": ".py",
   "mimetype": "text/x-python",
   "name": "python",
   "nbconvert_exporter": "python",
   "pygments_lexer": "ipython3",
   "version": "3.10.12"
  },
  "orig_nbformat": 4
 },
 "nbformat": 4,
 "nbformat_minor": 2
}
