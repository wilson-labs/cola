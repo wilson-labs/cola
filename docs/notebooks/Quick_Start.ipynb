{
 "cells": [
  {
   "cell_type": "markdown",
   "id": "db6a4e6e",
   "metadata": {},
   "source": [
    "# Quick Start"
   ]
  },
  {
   "cell_type": "markdown",
   "id": "bfe766bf",
   "metadata": {},
   "source": [
    "We now showcase some basic functionality present in CoLA. We'll start by showing how to define different types of Linear ops, then we'll show how to perform basic arithmetic with Linear ops and, finally, we'll conclude applying some linear algebra operations (like solves or log determinants) to the Linear ops.\n",
    "\n",
    "We'll work with torch.tensors in this example, but the same code can be run using JAX arrays (jnp.ndarrays). "
   ]
  },
  {
   "cell_type": "code",
   "execution_count": 1,
   "id": "59a79e4b",
   "metadata": {},
   "outputs": [
    {
     "data": {
      "text/plain": [
       "<torch._C.Generator at 0x7f547f30c210>"
      ]
     },
     "execution_count": 1,
     "metadata": {},
     "output_type": "execute_result"
    }
   ],
   "source": [
    "import cola\n",
    "import torch\n",
    "import numpy as np\n",
    "import warnings\n",
    "\n",
    "warnings.filterwarnings(\"ignore\")\n",
    "torch.manual_seed(21)"
   ]
  },
  {
   "cell_type": "markdown",
   "id": "e53243fb",
   "metadata": {},
   "source": [
    "## Creating a Linear Operator"
   ]
  },
  {
   "cell_type": "markdown",
   "id": "b2eb2c59",
   "metadata": {},
   "source": [
    "You can find several predefined Linear ops under cola.ops. We'll illustrate three basic cases: Dense, Diagonal and Tridiagonal."
   ]
  },
  {
   "cell_type": "markdown",
   "id": "6533e4e6",
   "metadata": {},
   "source": [
    "A Dense Linear Operator is nothing more than a wrapper on a dense matrix, where the wrapper defines a matmat function $v \\mapsto Av$ and holds several attributes such as dtype and shape.\n",
    "\n",
    "Let's start by defining a dense matrix and a vector to act upon. Below we show the entries of the matrix $A$, of the vector $v$ and the result of $Av$."
   ]
  },
  {
   "cell_type": "code",
   "execution_count": 2,
   "id": "a6b5a337",
   "metadata": {},
   "outputs": [
    {
     "name": "stdout",
     "output_type": "stream",
     "text": [
      "A: tensor([[-0.2386, -1.0934,  0.1558,  0.1750],\n",
      "        [-0.9526, -0.5442,  1.1985,  0.9604],\n",
      "        [-1.1074, -0.8403, -0.0020,  0.2240],\n",
      "        [ 0.8766, -0.5379, -0.2994,  0.9785]])\n",
      "Av: tensor([-0.3842, -1.8328, -0.7573,  0.9795])\n"
     ]
    }
   ],
   "source": [
    "N = 4\n",
    "A_dense = torch.randn(N, N)\n",
    "vec = torch.randn(N)\n",
    "print(f\"A: {A_dense}\\nAv: {A_dense @ vec}\")"
   ]
  },
  {
   "cell_type": "markdown",
   "id": "961e5e5f",
   "metadata": {},
   "source": [
    "To create a Dense operator simply run:"
   ]
  },
  {
   "cell_type": "code",
   "execution_count": 3,
   "id": "ca58aa3f",
   "metadata": {},
   "outputs": [
    {
     "name": "stdout",
     "output_type": "stream",
     "text": [
      "<class 'cola.ops.operators.Dense'>\n"
     ]
    }
   ],
   "source": [
    "A = cola.ops.Dense(A_dense)\n",
    "print(type(A))"
   ]
  },
  {
   "cell_type": "markdown",
   "id": "7341fbcc",
   "metadata": {},
   "source": [
    "The previous operator now has a dtype and a shape attribute. More importantly, it can now act on the vector $v$ and get the same result as above."
   ]
  },
  {
   "cell_type": "code",
   "execution_count": 4,
   "id": "a3d963cb",
   "metadata": {},
   "outputs": [
    {
     "name": "stdout",
     "output_type": "stream",
     "text": [
      "Dtype: torch.float32 | Shape: torch.Size([4, 4])\n",
      "tensor([-0.3842, -1.8328, -0.7573,  0.9795])\n"
     ]
    }
   ],
   "source": [
    "print(f\"Dtype: {A.dtype} | Shape: {A.shape}\")\n",
    "print(A @ vec)"
   ]
  },
  {
   "cell_type": "markdown",
   "id": "6bc98c38",
   "metadata": {},
   "source": [
    "In order to make use of the benefits of CoLA, let's consider using some large structured Linear Operators. First let's start by creating some structured linear operators, such as a diagonal, a dense matrix, and a permutation matrix."
   ]
  },
  {
   "cell_type": "code",
   "execution_count": 5,
   "id": "2d2dddc6",
   "metadata": {},
   "outputs": [
    {
     "name": "stdout",
     "output_type": "stream",
     "text": [
      "tensor([[-2.,  1.,  0.],\n",
      "        [ 1., -2.,  1.],\n",
      "        [ 0.,  1., -2.]]), Type: Tridiagonal\n"
     ]
    }
   ],
   "source": [
    "ones = torch.ones(300)\n",
    "upper = ones[:-1]\n",
    "lower = ones[:-1]\n",
    "diagonal= -2*ones\n",
    "\n",
    "T = cola.ops.Tridiagonal(lower, diagonal, upper)\n",
    "print(f\"{T[:3,:3].to_dense()}, Type: {T}\")"
   ]
  },
  {
   "cell_type": "code",
   "execution_count": 9,
   "id": "ec6e4c9d",
   "metadata": {},
   "outputs": [
    {
     "name": "stdout",
     "output_type": "stream",
     "text": [
      "tensor([-1.9827, -0.5036,  0.7356, -0.2840,  1.3906]) tensor([-1.9827, -0.5036,  0.7356, -0.2840,  1.3906])\n"
     ]
    }
   ],
   "source": [
    "perm = torch.randperm(200)\n",
    "P = cola.ops.Permutation(perm)\n",
    "v = torch.randn(200)\n",
    "print((P @ v)[:5], v[perm[:5]])"
   ]
  },
  {
   "cell_type": "markdown",
   "id": "3926d60a",
   "metadata": {},
   "source": [
    "For these Linear Operators, the memory and compute cost for multiplication is only $O(n)$ rather than the $O(n^2)$ for dense."
   ]
  },
  {
   "cell_type": "markdown",
   "id": "5e3ad4c5",
   "metadata": {},
   "source": [
    "## Doing binary operations with Linear ops"
   ]
  },
  {
   "cell_type": "markdown",
   "id": "2b517daa",
   "metadata": {},
   "source": [
    "CoLA provides a similar interface to combine Linear ops as you would combine matrices. \n",
    "We can add and subtract (+,-), multiply by scalars (*,/), matrix multiply (@), transpose (.T), slice [:,:] and more"
   ]
  },
  {
   "cell_type": "code",
   "execution_count": 10,
   "id": "f2a25ebe",
   "metadata": {},
   "outputs": [
    {
     "name": "stdout",
     "output_type": "stream",
     "text": [
      "tensor([[-3.,  1.,  0.,  0.],\n",
      "        [ 1., -4.,  1.,  0.],\n",
      "        [ 0.,  1., -5.,  1.],\n",
      "        [ 0.,  0.,  1., -6.]])\n"
     ]
    }
   ],
   "source": [
    "D = cola.ops.Diagonal(torch.tensor([1, 2, 3, 4.]))\n",
    "DT = T[:4, :4] - D\n",
    "print(DT.to_dense())"
   ]
  },
  {
   "cell_type": "markdown",
   "id": "672753f0",
   "metadata": {},
   "source": [
    "Let's use these operations to make $B= A^T(T_{[:4,:4]}-D) + \\mu I$ regularized by $\\mu$ by running the following code."
   ]
  },
  {
   "cell_type": "code",
   "execution_count": 11,
   "id": "ab53f7a9",
   "metadata": {},
   "outputs": [
    {
     "name": "stdout",
     "output_type": "stream",
     "text": [
      "Object: DenseTridiagonal[slice(None, 4, None),slice(None, 4, None)]+-1.0diag(tensor([1., 2., 3., 4.]))+9.999999974752427e-07I\n",
      " tensor([[-0.2368,  2.4642,  5.4611, -6.3671],\n",
      "        [ 2.7361,  0.2431,  3.1194,  2.3872],\n",
      "        [ 0.7310, -4.6402,  0.9091,  1.7946],\n",
      "        [ 0.4354, -3.4425,  0.8188, -5.6472]])\n"
     ]
    }
   ],
   "source": [
    "mu = 1e-6\n",
    "B = A.T @ DT\n",
    "B += mu * cola.ops.I_like(B)\n",
    "print(f\"Object: {B}\\n {B.to_dense()}\")"
   ]
  },
  {
   "cell_type": "markdown",
   "id": "71d92cf5",
   "metadata": {},
   "source": [
    "Linear Operators can also be combined in more involved ways, such as with `kron` for $\\otimes$, `block_diag`, and `concatenate`"
   ]
  },
  {
   "cell_type": "code",
   "execution_count": 12,
   "id": "06defdf2",
   "metadata": {},
   "outputs": [
    {
     "name": "stdout",
     "output_type": "stream",
     "text": [
      "tensor([[-0.2386,  0.0000,  0.0000,  0.0000, -1.0934],\n",
      "        [ 0.0000, -0.4772,  0.0000,  0.0000,  0.0000],\n",
      "        [ 0.0000,  0.0000, -0.7157,  0.0000,  0.0000],\n",
      "        [ 0.0000,  0.0000,  0.0000, -0.9543,  0.0000],\n",
      "        [-0.9526,  0.0000,  0.0000,  0.0000, -0.5442]])\n",
      " shape: (16, 16), object: Dense⊗diag(tensor([1., 2., 3., 4.]))\n"
     ]
    }
   ],
   "source": [
    "K = cola.kron(A, D)\n",
    "print(f\"{K[:5,:5].to_dense()}\\n shape: {K.shape}, object: {K}\")"
   ]
  },
  {
   "cell_type": "code",
   "execution_count": 14,
   "id": "f660e95b",
   "metadata": {},
   "outputs": [
    {
     "data": {
      "text/plain": [
       "<2100x2100 BlockDiag[cola.ops.operators.Kronecker[cola.ops.operators.Dense, cola.ops.operators.Permutation], cola.ops.operators.Tridiagonal, cola.ops.operators.Diagonal] with dtype=torch.float32>"
      ]
     },
     "execution_count": 14,
     "metadata": {},
     "output_type": "execute_result"
    }
   ],
   "source": [
    "d = 1 / (1 + torch.linspace(.2, 10, 1000))\n",
    "X = cola.block_diag(cola.kron(A, P), T, cola.ops.Diagonal(d))\n",
    "X"
   ]
  },
  {
   "cell_type": "markdown",
   "id": "04fce179",
   "metadata": {},
   "source": [
    "Under the hood the operator $B$ is lazily defined and would know how to apply the Linear ops to any vector $v$."
   ]
  },
  {
   "cell_type": "markdown",
   "id": "a7ff6087",
   "metadata": {},
   "source": [
    "## Computing linear algebra operations (e.g. solves, logdet, diag, exp)"
   ]
  },
  {
   "cell_type": "markdown",
   "id": "c20bab0b",
   "metadata": {},
   "source": [
    "To solve the linear system $Bx=v$ we use the inverse function. This inverse function lazily defines $B^{-1}$ and hence applying it to $v$ yields the solution $x=B^{-1}v$. The inverse of $B$ is never computed, using $B^{-1}$ is simply how in CoLA we call linear solves."
   ]
  },
  {
   "cell_type": "code",
   "execution_count": 15,
   "id": "4e803b0c",
   "metadata": {},
   "outputs": [
    {
     "data": {
      "text/plain": [
       "torch.Size([2100, 5])"
      ]
     },
     "execution_count": 15,
     "metadata": {},
     "output_type": "execute_result"
    }
   ],
   "source": [
    "X[:, :5].to_dense().shape"
   ]
  },
  {
   "cell_type": "code",
   "execution_count": 16,
   "id": "7f86d272",
   "metadata": {},
   "outputs": [
    {
     "name": "stdout",
     "output_type": "stream",
     "text": [
      "Solution error: 9.79e-06\n"
     ]
    }
   ],
   "source": [
    "X_inv = cola.inv(X)\n",
    "v = torch.randn(X.shape[-1])\n",
    "soln = X_inv @ v\n",
    "print(f\"Solution error: {torch.linalg.norm(X @ soln - v)/torch.linalg.norm(v):.2e}\")"
   ]
  },
  {
   "cell_type": "code",
   "execution_count": 17,
   "id": "64d99cbf",
   "metadata": {},
   "outputs": [
    {
     "name": "stdout",
     "output_type": "stream",
     "text": [
      "CoLA logdet: -1564.690, dense logdet -1564.690\n"
     ]
    }
   ],
   "source": [
    "print(f\"CoLA logdet: {cola.logdet(X):.3f}, dense logdet {torch.logdet(X.to_dense()):.3f}\")"
   ]
  },
  {
   "cell_type": "code",
   "execution_count": 18,
   "id": "04d88f0f",
   "metadata": {},
   "outputs": [
    {
     "name": "stdout",
     "output_type": "stream",
     "text": [
      "CoLA diag: tensor([0.0912, 0.0912, 0.0911, 0.0910, 0.0909])\n",
      "dense diag: tensor([0.0912, 0.0912, 0.0911, 0.0910, 0.0909])\n"
     ]
    }
   ],
   "source": [
    "print(f\"CoLA diag: {cola.diag(X)[-5:]}\\ndense diag: {torch.diag(X.to_dense())[-5:]}\")"
   ]
  },
  {
   "cell_type": "code",
   "execution_count": 19,
   "id": "b6432c5b",
   "metadata": {},
   "outputs": [
    {
     "name": "stdout",
     "output_type": "stream",
     "text": [
      "CoLA exp(X): tensor([[0.3085, 0.2153, 0.0932, 0.0288, 0.0066],\n",
      "        [0.2153, 0.3085, 0.2152, 0.0930, 0.0275],\n",
      "        [0.0932, 0.2152, 0.3083, 0.2139, 0.0864],\n",
      "        [0.0288, 0.0930, 0.2139, 0.3016, 0.1865],\n",
      "        [0.0066, 0.0275, 0.0864, 0.1865, 0.2153]])\n",
      "scipy expm: [[0.30850828 0.21526888 0.09323523 0.02876081 0.0066488 ]\n",
      " [0.21526891 0.30850452 0.2152388  0.09302244 0.02746145]\n",
      " [0.09323531 0.2152388  0.30829173 0.21393944 0.08637362]\n",
      " [0.02876082 0.09302243 0.2139395  0.30164295 0.18647799]\n",
      " [0.0066488  0.02746145 0.08637366 0.18647805 0.21526927]]\n"
     ]
    }
   ],
   "source": [
    "from scipy.linalg import expm\n",
    "scipy_expm = expm((T.to_dense()).numpy())\n",
    "print(f\"CoLA exp(X): {cola.exp(T)[-5:,-5:].to_dense().real}\\nscipy expm: {scipy_expm[-5:,-5:]}\")"
   ]
  },
  {
   "cell_type": "code",
   "execution_count": 26,
   "id": "23e4504e",
   "metadata": {},
   "outputs": [
    {
     "name": "stdout",
     "output_type": "stream",
     "text": [
      "CoLA exp(X): tensor([[0.3085, 0.2153, 0.0932, 0.0288, 0.0066],\n",
      "        [0.2153, 0.3085, 0.2152, 0.0930, 0.0275],\n",
      "        [0.0932, 0.2152, 0.3083, 0.2139, 0.0864],\n",
      "        [0.0288, 0.0930, 0.2139, 0.3016, 0.1865],\n",
      "        [0.0066, 0.0275, 0.0864, 0.1865, 0.2153]])\n",
      "scipy expm: [[0.30850828 0.21526888 0.09323523 0.02876081 0.0066488 ]\n",
      " [0.21526891 0.30850452 0.2152388  0.09302244 0.02746145]\n",
      " [0.09323531 0.2152388  0.30829173 0.21393944 0.08637362]\n",
      " [0.02876082 0.09302243 0.2139395  0.30164295 0.18647799]\n",
      " [0.0066488  0.02746145 0.08637366 0.18647805 0.21526927]]\n"
     ]
    }
   ],
   "source": [
    "from cola import Auto, Arnoldi\n",
    "print(f\"CoLA exp(X): {cola.exp(T, alg=Arnoldi())[-5:,-5:].to_dense().real}\\nscipy expm: {scipy_expm[-5:,-5:]}\")"
   ]
  },
  {
   "cell_type": "code",
   "execution_count": 39,
   "id": "32ad8a12",
   "metadata": {},
   "outputs": [
    {
     "name": "stdout",
     "output_type": "stream",
     "text": [
      "tensor([2.5006e-06, 5.9026e-05, 1.5939e-04]) tensor([-1.1555e-07,  2.6563e-07,  1.3119e-06])\n"
     ]
    }
   ],
   "source": [
    "C = X.T @ X\n",
    "# let's annotate this matrix as positive definite to speed up the computation\n",
    "C = cola.PSD(C)\n",
    "e, v = cola.eig(C, k=3, which=\"SM\", alg=Auto(max_iters=500))\n",
    "print(e, torch.linalg.eigh(C.to_dense())[0][:3])"
   ]
  },
  {
   "cell_type": "code",
   "execution_count": 40,
   "id": "477eae7e",
   "metadata": {},
   "outputs": [
    {
     "name": "stdout",
     "output_type": "stream",
     "text": [
      "tensor([15.9922, 15.9965, 15.9991]) tensor([15.9922, 15.9965, 15.9991])\n"
     ]
    }
   ],
   "source": [
    "e, v = cola.eig(C, k=3, which=\"LM\", alg=Auto(max_iters=500))\n",
    "print(e, torch.linalg.eigh(C.to_dense())[0][-3:])"
   ]
  }
 ],
 "metadata": {
  "kernelspec": {
   "display_name": "Python 3 (ipykernel)",
   "language": "python",
   "name": "python3"
  },
  "language_info": {
   "codemirror_mode": {
    "name": "ipython",
    "version": 3
   },
   "file_extension": ".py",
   "mimetype": "text/x-python",
   "name": "python",
   "nbconvert_exporter": "python",
   "pygments_lexer": "ipython3",
   "version": "3.10.13"
  }
 },
 "nbformat": 4,
 "nbformat_minor": 5
}
